{
 "cells": [
  {
   "cell_type": "code",
   "execution_count": 3,
   "metadata": {},
   "outputs": [
    {
     "name": "stdout",
     "output_type": "stream",
     "text": [
      "130\n",
      "{1: (1, 0), 2: (2, 0), 3: (3, 0), 4: (2, 2), 5: (3, 2), 6: (6, 0), 7: (7, 0), 8: (8, 0), 9: (9, 0), 10: (10, 0), 11: (10, 1), 12: (10, 2), 13: (10, 3), 14: (12, 2), 15: (13, 2), 16: (10, 6), 17: (10, 7), 18: (9, 9), 19: (10, 9), 20: (10, 10), 21: (20, 1), 22: (20, 2), 23: (20, 3), 24: (22, 2), 25: (23, 2), 26: (20, 6), 27: (20, 7), 28: (19, 9), 29: (20, 9), 30: (20, 10), 31: (30, 1), 32: (30, 2), 33: (30, 3), 34: (32, 2), 35: (33, 2), 36: (30, 6), 37: (30, 7), 38: (29, 9)}\n"
     ]
    }
   ],
   "source": [
    "from collections import defaultdict\n",
    "original_price=[1,5,8,9,10,17.17,20,24,30,35]\n",
    "price=defaultdict(int)\n",
    "for i,p in enumerate(original_price):\n",
    "    price[i+1]=p\n",
    "\n",
    "def meno(f):\n",
    "    already_computed={}\n",
    "    def _wrap(arg):\n",
    "        result=None\n",
    "        if arg in already_computed:\n",
    "            result=already_computed[arg]\n",
    "        else:\n",
    "            result=f(arg)\n",
    "            already_computed[arg]=result\n",
    "        return  result\n",
    "    return _wrap\n",
    "solution={}\n",
    "@meno\n",
    "def r(n):\n",
    "    max_price,max_split=max([(price[n],0)]+[(r(i)+r(n-i),i)for i in range(1,n)],key=lambda x:x[0])\n",
    "    solution[n]=(n-max_split,max_split)\n",
    "    return max_price\n",
    "print(r(38))\n",
    "print(solution)"
   ]
  },
  {
   "cell_type": "code",
   "execution_count": null,
   "metadata": {
    "collapsed": true
   },
   "outputs": [],
   "source": [
    "from sklearn.datasets import load_boston\n",
    "import random\n",
    "from icecream import ic\n",
    "min_loss = float('inf')\n",
    "data=load_boston()\n",
    "X,y=data['data'],data['target']\n",
    "def partial_k(x,y,y_hat):\n",
    "    n=len(y)\n",
    "    gradient=0\n",
    "    for x_i,y_i,y_hat_i in zip(list(x),list(y),list(y_hat)):\n",
    "        gradient+=(y_i-y_hat_i)*x_i\n",
    "    return -2/n*gradient\n",
    "def partial_b(x,y,y_hat):\n",
    "    n=len(y)\n",
    "    gradient=0\n",
    "    for y_i,y_hat_i in zip(list(y),list(y_hat)):\n",
    "        gradient+=(y_i-y_hat_i)\n",
    "    return -2/n*gradient\n",
    "trying_times=2000\n",
    "min_loss=float('inf')\n",
    "current_k=random.random()*200-100\n",
    "current_b=random.random()*200-100\n",
    "learning_rate=1e-04\n",
    "update_rate=0\n",
    "def price_01(rm,k,b):\n",
    "    return k*rm+b\n",
    "def loss(y,y_hat):\n",
    "    return sum((y_i-y_hat_i)**2 for y_i,y_hat_i in zip(list(y),list(y_hat)))/len(list(y))\n",
    "X_rm=X[:,5]\n",
    "for i in range(trying_times):\n",
    "    price_by_k_and_b=[price_01(r,current_k,current_b) for r in X_rm]\n",
    "    current_loss=loss(y,price_by_k_and_b)\n",
    "    if current_loss<min_loss:\n",
    "        min_loss=current_loss\n",
    "        if i%50==0:\n",
    "            print('when time is:{}, get_best_k:{}, best_b:{}, loss:{}'.format(i,current_k,current_b,min_loss))\n",
    "        k_gradient=partial_k(X_rm,y,price_by_k_and_b)\n",
    "        b_gradient=partial_b(X_rm,y,price_by_k_and_b)\n",
    "        current_k=current_k+(-1*k_gradient)*learning_rate\n",
    "        current_b=current_b+(-1*b_gradient)*learning_rate"
   ]
  },
  {
   "cell_type": "code",
   "execution_count": null,
   "metadata": {
    "collapsed": true
   },
   "outputs": [],
   "source": []
  },
  {
   "cell_type": "code",
   "execution_count": null,
   "metadata": {
    "collapsed": true
   },
   "outputs": [],
   "source": []
  }
 ],
 "metadata": {
  "kernelspec": {
   "display_name": "Python 3",
   "language": "python",
   "name": "python3"
  },
  "language_info": {
   "codemirror_mode": {
    "name": "ipython",
    "version": 3
   },
   "file_extension": ".py",
   "mimetype": "text/x-python",
   "name": "python",
   "nbconvert_exporter": "python",
   "pygments_lexer": "ipython3",
   "version": "3.6.2"
  }
 },
 "nbformat": 4,
 "nbformat_minor": 2
}
